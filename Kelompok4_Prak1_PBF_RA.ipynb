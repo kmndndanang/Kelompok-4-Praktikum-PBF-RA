{
  "nbformat": 4,
  "nbformat_minor": 0,
  "metadata": {
    "colab": {
      "private_outputs": true,
      "provenance": []
    },
    "kernelspec": {
      "name": "python3",
      "display_name": "Python 3"
    },
    "language_info": {
      "name": "python"
    }
  },
  "cells": [
    {
      "cell_type": "markdown",
      "source": [
        "#1. Buatlah fungsi komposisi dengan nilai f(x) = 4^x, g(x) = x^x dan h(x) = 3+x dan dengan pemrograman prosedural tiga fungsi dan pemrograman fungsional dengan lambda.\n"
      ],
      "metadata": {
        "id": "flVjwcIfJwik"
      }
    },
    {
      "cell_type": "markdown",
      "source": [
        "Pemrograman prosedural tiga fungsi"
      ],
      "metadata": {
        "id": "g6yDJnJmKeSA"
      }
    },
    {
      "cell_type": "code",
      "source": [
        "# Fungsi f(x): mengalikan parameter x dengan 4\n",
        "def f(x):\n",
        "    return 4 * x\n",
        "\n",
        "# Fungsi g(x): mengkuadratkan parameter x\n",
        "def g(x):\n",
        "    return x * x\n",
        "\n",
        "# Fungsi h(x): menambahkan 3 pada parameter x\n",
        "def h(x):\n",
        "    return 3 + x\n",
        "\n",
        "# Komposisi fungsi: h(g(f(4)))\n",
        "result = h(g(f(4)))\n",
        "\n",
        "# Menampilkan hasil komposisi\n",
        "print(result)"
      ],
      "metadata": {
        "id": "TEaSjlbwAFY5"
      },
      "execution_count": null,
      "outputs": []
    },
    {
      "cell_type": "markdown",
      "source": [
        "Pemrograman fungsiuonal dengan lambda"
      ],
      "metadata": {
        "id": "lY4BKKMMKlQV"
      }
    },
    {
      "cell_type": "code",
      "source": [
        "# Fungsi komposisi (compose): menggabungkan dua fungsi menjadi satu\n",
        "def compose(f1, f2):\n",
        "    # Mengembalikan fungsi lambda yang menerima parameter v dan mengaplikasikan f1 ke hasil f2(v)\n",
        "    return lambda v: f1(f2(v))\n",
        "\n",
        "# Menggunakan fungsi komposisi untuk membuat h(g(f(x)))\n",
        "hgf = compose(h, compose(g, f))\n",
        "\n",
        "# Mengaplikasikan h(g(f(x))) untuk x=3\n",
        "result = hgf(3)\n",
        "\n",
        "# Menampilkan hasil\n",
        "print(result)"
      ],
      "metadata": {
        "id": "GB4QDnK1APuU"
      },
      "execution_count": null,
      "outputs": []
    },
    {
      "cell_type": "markdown",
      "source": [
        "#2. Buatlah pemrograman berbasis objek pada soal no.1"
      ],
      "metadata": {
        "id": "ytb8kIb8O_tw"
      }
    },
    {
      "cell_type": "code",
      "source": [
        "# Kelas Value: Merepresentasikan nilai dengan operasi yang mendukung \"continuation passing\" style\n",
        "class Value:\n",
        "    def __init__(self, value):\n",
        "        self.value = value\n",
        "\n",
        "    # Operator `value >> func`: Mengaplikasikan func ke value\n",
        "    def __rshift__(self, other):\n",
        "        return other(self.value)\n",
        "\n",
        "# Fungsi-fungsi matematika dalam bentuk sederhana\n",
        "def f(x):\n",
        "    return Value(4 * x)\n",
        "\n",
        "def g(x):\n",
        "    return Value(x * x)\n",
        "\n",
        "def h(x):\n",
        "    return Value(3 + x)\n",
        "\n",
        "# Menerapkan \"continuation passing\" style pada nilai awal\n",
        "result = Value(3) >> f >> g >> h\n",
        "\n",
        "# Mengambil nilai hasil\n",
        "result_value = result.value\n",
        "print(result_value)"
      ],
      "metadata": {
        "id": "NBbfsfe3AkqM"
      },
      "execution_count": null,
      "outputs": []
    },
    {
      "cell_type": "markdown",
      "source": [
        "#3. Berikan Analisis Komparasi soal 1 dan 2"
      ],
      "metadata": {
        "id": "wvC5x_ZIP5Vz"
      }
    },
    {
      "cell_type": "markdown",
      "source": [
        "1. **Pemrograman Prosedural dan Fungsional dengan Lambda (Soal 1)**\n",
        "\n",
        "**Kelebihan:**\n",
        "  - Sederhana: Struktur kode sederhana dan langsung ke pokok permasalahan.\n",
        "  - Fleksibel: Fungsi-fungsi terpisah dapat digunakan kembali.\n",
        "\n",
        "**Kekurangan:**\n",
        "  - Kurang Terstruktur: Tidak ada struktur yang jelas untuk mengorganisir fungsi-fungsi.\n",
        "  - Pembacaan Kode: Mungkin sulit untuk memahami komposisi fungsi secara langsung.\n",
        "\n",
        "**Kesimpulan:**\n",
        "Cocok untuk kasus-kasus sederhana dan tidak terlalu kompleks.\n",
        "Pendekatan fungsional dengan lambda cenderung lebih ringkas.\n",
        "\n",
        "\n",
        "\n",
        "**Pemrograman Berbasis Objek (Soal 2):**\n",
        "\n",
        "**Kelebihan:**\n",
        "  - Terstruktur: Menggunakan kelas dan metode untuk mengorganisir data dan fungsionalitas terkait.\n",
        "  - Reusabilitas: Kode lebih terstruktur, memungkinkan reusabilitas yang baik.\n",
        "  - Enkapsulasi: Data dan fungsionalitas terkait diencapsulasi dalam kelas, memberikan pembatasan akses.\n",
        "\n",
        "**Kekurangan:**\n",
        "  - Kompleksitas: Lebih kompleks daripada pendekatan prosedural untuk kasus sederhana.\n",
        "  - Waktu Eksekusi: Memerlukan lebih banyak waktu untuk membuat dan memahami struktur objek.\n",
        "\n",
        "**Kesimpulan:**\n",
        "Cocok untuk proyek-proyek yang memerlukan struktur terorganisir. Sementara pendekatan berbasis objek mungkin lebih sesuai untuk proyek-proyek yang memerlukan pemodelan yang lebih kompleks atau mempertahankan state internal."
      ],
      "metadata": {
        "id": "kDGdQMidP8Z4"
      }
    },
    {
      "cell_type": "markdown",
      "source": [
        "#4. Buatlah satu penyelesaian Luas Segitiga dengan menggunakan Pemrograman berorientasi Objek dan Pemrograman berbasis Fungsi. uji dengan membandingkan mana yang tercepat komputasinya."
      ],
      "metadata": {
        "id": "W3jRFhXQO2cB"
      }
    },
    {
      "cell_type": "markdown",
      "source": [
        "Berbasis Objek"
      ],
      "metadata": {
        "id": "GLTfRzv-Pa_E"
      }
    },
    {
      "cell_type": "code",
      "source": [
        "import time\n",
        "\n",
        "class Triangle:\n",
        "    def __init__(self, panjang, lebar, tinggi):\n",
        "        self.panjang = panjang\n",
        "        self.lebar = lebar\n",
        "        self.tinggi = tinggi\n",
        "\n",
        "    def hitung_luas(self):\n",
        "        return (self.panjang * self.lebar * self.tinggi) / 2\n",
        "\n",
        "    def measure_execution_time(self):\n",
        "        start_time = time.time()\n",
        "        luas_segitiga = self.hitung_luas()\n",
        "        end_time = time.time()\n",
        "        elapsed_time = end_time - start_time\n",
        "        return luas_segitiga, elapsed_time\n",
        "\n",
        "# Membuat instance dari kelas Triangle\n",
        "triangle = Triangle(5, 8, 10)\n",
        "\n",
        "# Mengukur dan menampilkan luas segitiga beserta waktu eksekusi\n",
        "luas_segitiga, waktu_eksekusi = triangle.measure_execution_time()\n",
        "print(f'Luas segitiga: {luas_segitiga}')\n",
        "print(f'Waktu eksekusi: {waktu_eksekusi} detik')"
      ],
      "metadata": {
        "id": "P2BxNZR9BEr1"
      },
      "execution_count": null,
      "outputs": []
    },
    {
      "cell_type": "markdown",
      "source": [
        "Berbasis Fungsi"
      ],
      "metadata": {
        "id": "wQCY7-NoPsvj"
      }
    },
    {
      "cell_type": "code",
      "source": [
        "import time\n",
        "\n",
        "def hitung_luas_segitiga(panjang, lebar, tinggi):\n",
        "    return (panjang * lebar * tinggi) / 2\n",
        "\n",
        "def measure_execution_time(func, *args):\n",
        "    start_time = time.time()\n",
        "    result = func(*args)\n",
        "    end_time = time.time()\n",
        "    elapsed_time = end_time - start_time\n",
        "    return result, elapsed_time\n",
        "\n",
        "# Membuat fungsi yang mencakup seluruh proses\n",
        "def main():\n",
        "    panjang, lebar, tinggi = 5, 8, 10\n",
        "\n",
        "    # Menggunakan fungsi hitung_luas_segitiga\n",
        "    result, elapsed_time = measure_execution_time(hitung_luas_segitiga, panjang, lebar, tinggi)\n",
        "\n",
        "    # Menampilkan hasil luas segitiga dan waktu eksekusi\n",
        "    print(f'Luas segitiga: {result}')\n",
        "    print(f'Waktu eksekusi: {elapsed_time} detik')\n",
        "\n",
        "# Menjalankan fungsi main\n",
        "if __name__ == \"__main__\":\n",
        "    main()\n"
      ],
      "metadata": {
        "id": "RHmZEEeQH_0a"
      },
      "execution_count": null,
      "outputs": []
    }
  ]
}